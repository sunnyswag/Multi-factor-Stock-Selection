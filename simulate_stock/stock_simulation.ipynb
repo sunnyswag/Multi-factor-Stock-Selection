{
 "cells": [
  {
   "cell_type": "code",
   "execution_count": 1,
   "metadata": {},
   "outputs": [],
   "source": [
    "import time\n",
    "import os\n",
    "import math\n",
    "import tushare as ts\n",
    "from datetime import datetime\n",
    "import pandas as pd\n",
    "import numpy as np\n",
    "import sys\n",
    "import matplotlib.pyplot as plt\n",
    "from IPython.display import clear_output\n",
    "\n",
    "sys.path.append(\"../utils/\")\n",
    "import date_util\n",
    "import token_util\n",
    "import enter_util\n",
    "import stock_util"
   ]
  },
  {
   "cell_type": "markdown",
   "metadata": {},
   "source": [
    "### 提取数据"
   ]
  },
  {
   "cell_type": "code",
   "execution_count": 2,
   "metadata": {},
   "outputs": [],
   "source": [
    "# trade_date = \"20190830\"\n",
    "# delta_price = 30.0\n",
    "# stock_list = stock_util.get_stock_list(trade_date, delta_price)"
   ]
  },
  {
   "cell_type": "markdown",
   "metadata": {},
   "source": [
    "### 选出符合入场点的股票"
   ]
  },
  {
   "cell_type": "code",
   "execution_count": 3,
   "metadata": {},
   "outputs": [],
   "source": [
    "test_choose_list = enter_util.get_condidate_stock('20191021')"
   ]
  },
  {
   "cell_type": "code",
   "execution_count": 4,
   "metadata": {},
   "outputs": [
    {
     "data": {
      "text/html": [
       "<div>\n",
       "<style scoped>\n",
       "    .dataframe tbody tr th:only-of-type {\n",
       "        vertical-align: middle;\n",
       "    }\n",
       "\n",
       "    .dataframe tbody tr th {\n",
       "        vertical-align: top;\n",
       "    }\n",
       "\n",
       "    .dataframe thead th {\n",
       "        text-align: right;\n",
       "    }\n",
       "</style>\n",
       "<table border=\"1\" class=\"dataframe\">\n",
       "  <thead>\n",
       "    <tr style=\"text-align: right;\">\n",
       "      <th></th>\n",
       "      <th>stock_code</th>\n",
       "      <th>name</th>\n",
       "      <th>pct_chg_short</th>\n",
       "      <th>his_macd_discount</th>\n",
       "      <th>amount_mean_20</th>\n",
       "      <th>amount_discount_mean</th>\n",
       "      <th>rank_factor</th>\n",
       "    </tr>\n",
       "  </thead>\n",
       "  <tbody>\n",
       "    <tr>\n",
       "      <th>0</th>\n",
       "      <td>000607.SZ</td>\n",
       "      <td>华媒控股</td>\n",
       "      <td>-0.099093</td>\n",
       "      <td>0.812091</td>\n",
       "      <td>0.226051</td>\n",
       "      <td>2.073715</td>\n",
       "      <td>1.912428</td>\n",
       "    </tr>\n",
       "    <tr>\n",
       "      <th>1</th>\n",
       "      <td>000662.SZ</td>\n",
       "      <td>天夏智慧</td>\n",
       "      <td>2.525744</td>\n",
       "      <td>-0.242129</td>\n",
       "      <td>0.707177</td>\n",
       "      <td>-0.268959</td>\n",
       "      <td>1.239852</td>\n",
       "    </tr>\n",
       "    <tr>\n",
       "      <th>2</th>\n",
       "      <td>002579.SZ</td>\n",
       "      <td>中京电子</td>\n",
       "      <td>-0.564286</td>\n",
       "      <td>0.914231</td>\n",
       "      <td>1.461202</td>\n",
       "      <td>-0.542892</td>\n",
       "      <td>1.091243</td>\n",
       "    </tr>\n",
       "    <tr>\n",
       "      <th>3</th>\n",
       "      <td>002687.SZ</td>\n",
       "      <td>乔治白</td>\n",
       "      <td>-0.687288</td>\n",
       "      <td>1.311954</td>\n",
       "      <td>-1.406657</td>\n",
       "      <td>0.296284</td>\n",
       "      <td>0.413124</td>\n",
       "    </tr>\n",
       "    <tr>\n",
       "      <th>4</th>\n",
       "      <td>603136.SH</td>\n",
       "      <td>天目湖</td>\n",
       "      <td>-0.760834</td>\n",
       "      <td>0.068017</td>\n",
       "      <td>-0.568280</td>\n",
       "      <td>0.957470</td>\n",
       "      <td>-0.117805</td>\n",
       "    </tr>\n",
       "    <tr>\n",
       "      <th>5</th>\n",
       "      <td>002250.SZ</td>\n",
       "      <td>联化科技</td>\n",
       "      <td>-0.450129</td>\n",
       "      <td>-0.330379</td>\n",
       "      <td>0.502791</td>\n",
       "      <td>-0.445375</td>\n",
       "      <td>-0.526736</td>\n",
       "    </tr>\n",
       "    <tr>\n",
       "      <th>6</th>\n",
       "      <td>002528.SZ</td>\n",
       "      <td>英飞拓</td>\n",
       "      <td>0.025967</td>\n",
       "      <td>0.079989</td>\n",
       "      <td>-0.461798</td>\n",
       "      <td>-1.251568</td>\n",
       "      <td>-0.763710</td>\n",
       "    </tr>\n",
       "    <tr>\n",
       "      <th>7</th>\n",
       "      <td>600818.SH</td>\n",
       "      <td>中路股份</td>\n",
       "      <td>0.142451</td>\n",
       "      <td>-0.535928</td>\n",
       "      <td>-1.334776</td>\n",
       "      <td>-0.071543</td>\n",
       "      <td>-1.167862</td>\n",
       "    </tr>\n",
       "    <tr>\n",
       "      <th>8</th>\n",
       "      <td>603797.SH</td>\n",
       "      <td>联泰环保</td>\n",
       "      <td>-0.132531</td>\n",
       "      <td>-2.077846</td>\n",
       "      <td>0.874289</td>\n",
       "      <td>-0.747131</td>\n",
       "      <td>-2.080533</td>\n",
       "    </tr>\n",
       "  </tbody>\n",
       "</table>\n",
       "</div>"
      ],
      "text/plain": [
       "  stock_code  name  pct_chg_short  his_macd_discount  amount_mean_20  \\\n",
       "0  000607.SZ  华媒控股      -0.099093           0.812091        0.226051   \n",
       "1  000662.SZ  天夏智慧       2.525744          -0.242129        0.707177   \n",
       "2  002579.SZ  中京电子      -0.564286           0.914231        1.461202   \n",
       "3  002687.SZ   乔治白      -0.687288           1.311954       -1.406657   \n",
       "4  603136.SH   天目湖      -0.760834           0.068017       -0.568280   \n",
       "5  002250.SZ  联化科技      -0.450129          -0.330379        0.502791   \n",
       "6  002528.SZ   英飞拓       0.025967           0.079989       -0.461798   \n",
       "7  600818.SH  中路股份       0.142451          -0.535928       -1.334776   \n",
       "8  603797.SH  联泰环保      -0.132531          -2.077846        0.874289   \n",
       "\n",
       "   amount_discount_mean  rank_factor  \n",
       "0              2.073715     1.912428  \n",
       "1             -0.268959     1.239852  \n",
       "2             -0.542892     1.091243  \n",
       "3              0.296284     0.413124  \n",
       "4              0.957470    -0.117805  \n",
       "5             -0.445375    -0.526736  \n",
       "6             -1.251568    -0.763710  \n",
       "7             -0.071543    -1.167862  \n",
       "8             -0.747131    -2.080533  "
      ]
     },
     "execution_count": 4,
     "metadata": {},
     "output_type": "execute_result"
    }
   ],
   "source": [
    "test_choose_list"
   ]
  },
  {
   "cell_type": "markdown",
   "metadata": {},
   "source": [
    "# TEST"
   ]
  }
 ],
 "metadata": {
  "kernelspec": {
   "display_name": "Python 3",
   "language": "python",
   "name": "python3"
  },
  "language_info": {
   "codemirror_mode": {
    "name": "ipython",
    "version": 3
   },
   "file_extension": ".py",
   "mimetype": "text/x-python",
   "name": "python",
   "nbconvert_exporter": "python",
   "pygments_lexer": "ipython3",
   "version": "3.7.3"
  }
 },
 "nbformat": 4,
 "nbformat_minor": 2
}
