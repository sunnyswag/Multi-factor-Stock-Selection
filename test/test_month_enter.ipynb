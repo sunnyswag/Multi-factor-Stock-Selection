{
 "cells": [
  {
   "cell_type": "code",
   "execution_count": 4,
   "metadata": {},
   "outputs": [],
   "source": [
    "import sys\n",
    "sys.path.append(\"../utils/\")\n",
    "import month_enter\n",
    "import date_util"
   ]
  },
  {
   "cell_type": "code",
   "execution_count": 5,
   "metadata": {},
   "outputs": [],
   "source": [
    "date = \"20191116\"\n",
    "\n",
    "stock_list = month_enter.get_start_stock(date)"
   ]
  },
  {
   "cell_type": "code",
   "execution_count": 6,
   "metadata": {},
   "outputs": [
    {
     "data": {
      "text/plain": [
       "['000895.SZ', '002180.SZ', '600779.SH', '601818.SH', '601998.SH', '603690.SH']"
      ]
     },
     "execution_count": 6,
     "metadata": {},
     "output_type": "execute_result"
    }
   ],
   "source": [
    "stock_list"
   ]
  },
  {
   "cell_type": "code",
   "execution_count": 2,
   "metadata": {},
   "outputs": [],
   "source": [
    "date = \"20191116\"\n",
    "\n",
    "stock_list = month_enter.get_secure_stock(date)"
   ]
  },
  {
   "cell_type": "code",
   "execution_count": 3,
   "metadata": {},
   "outputs": [
    {
     "data": {
      "text/plain": [
       "['000001.SZ',\n",
       " '000043.SZ',\n",
       " '000063.SZ',\n",
       " '000333.SZ',\n",
       " '000651.SZ',\n",
       " '000656.SZ',\n",
       " '000661.SZ',\n",
       " '000672.SZ',\n",
       " '000708.SZ',\n",
       " '000739.SZ',\n",
       " '000876.SZ',\n",
       " '000951.SZ',\n",
       " '000977.SZ',\n",
       " '002007.SZ',\n",
       " '002124.SZ',\n",
       " '002127.SZ',\n",
       " '002142.SZ',\n",
       " '002194.SZ',\n",
       " '002202.SZ',\n",
       " '002234.SZ',\n",
       " '002271.SZ',\n",
       " '002299.SZ',\n",
       " '002311.SZ',\n",
       " '002353.SZ',\n",
       " '002368.SZ',\n",
       " '002384.SZ',\n",
       " '002396.SZ',\n",
       " '002439.SZ',\n",
       " '002458.SZ',\n",
       " '002475.SZ',\n",
       " '002557.SZ',\n",
       " '002607.SZ',\n",
       " '002690.SZ',\n",
       " '002714.SZ',\n",
       " '002726.SZ',\n",
       " '002746.SZ',\n",
       " '002798.SZ',\n",
       " '002821.SZ',\n",
       " '002886.SZ',\n",
       " '002901.SZ',\n",
       " '002938.SZ',\n",
       " '600050.SH',\n",
       " '600131.SH',\n",
       " '600276.SH',\n",
       " '600309.SH',\n",
       " '600323.SH',\n",
       " '600346.SH',\n",
       " '600519.SH',\n",
       " '600529.SH',\n",
       " '600548.SH',\n",
       " '600585.SH',\n",
       " '600612.SH',\n",
       " '600621.SH',\n",
       " '600741.SH',\n",
       " '600745.SH',\n",
       " '600809.SH',\n",
       " '600984.SH',\n",
       " '601009.SH',\n",
       " '601100.SH',\n",
       " '601166.SH',\n",
       " '601628.SH',\n",
       " '601799.SH',\n",
       " '603222.SH',\n",
       " '603232.SH',\n",
       " '603318.SH',\n",
       " '603333.SH',\n",
       " '603345.SH',\n",
       " '603501.SH',\n",
       " '603517.SH',\n",
       " '603568.SH',\n",
       " '603605.SH',\n",
       " '603638.SH',\n",
       " '603658.SH',\n",
       " '603707.SH',\n",
       " '603899.SH',\n",
       " '603939.SH',\n",
       " '603960.SH',\n",
       " '603986.SH']"
      ]
     },
     "execution_count": 3,
     "metadata": {},
     "output_type": "execute_result"
    }
   ],
   "source": [
    "stock_list"
   ]
  },
  {
   "cell_type": "code",
   "execution_count": null,
   "metadata": {},
   "outputs": [],
   "source": []
  }
 ],
 "metadata": {
  "kernelspec": {
   "display_name": "Python 3",
   "language": "python",
   "name": "python3"
  },
  "language_info": {
   "codemirror_mode": {
    "name": "ipython",
    "version": 3
   },
   "file_extension": ".py",
   "mimetype": "text/x-python",
   "name": "python",
   "nbconvert_exporter": "python",
   "pygments_lexer": "ipython3",
   "version": "3.7.3"
  }
 },
 "nbformat": 4,
 "nbformat_minor": 2
}
