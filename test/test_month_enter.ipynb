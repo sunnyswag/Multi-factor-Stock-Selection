{
 "cells": [
  {
   "cell_type": "code",
   "execution_count": 1,
   "metadata": {},
   "outputs": [
    {
     "name": "stdout",
     "output_type": "stream",
     "text": [
      "auth success \n"
     ]
    }
   ],
   "source": [
    "import sys\n",
    "sys.path.append(\"../utils/\")\n",
    "import month_enter\n",
    "import date_util"
   ]
  },
  {
   "cell_type": "code",
   "execution_count": 7,
   "metadata": {},
   "outputs": [],
   "source": [
    "date = \"20180616\"\n",
    "\n",
    "stock_list = month_enter.get_start_stock(date)"
   ]
  },
  {
   "cell_type": "code",
   "execution_count": 8,
   "metadata": {},
   "outputs": [
    {
     "data": {
      "text/plain": [
       "['000538.SZ',\n",
       " '000568.SZ',\n",
       " '000596.SZ',\n",
       " '000813.SZ',\n",
       " '000858.SZ',\n",
       " '000895.SZ',\n",
       " '002120.SZ',\n",
       " '002127.SZ',\n",
       " '002223.SZ',\n",
       " '002293.SZ',\n",
       " '002294.SZ',\n",
       " '002304.SZ',\n",
       " '002327.SZ',\n",
       " '002753.SZ',\n",
       " '002768.SZ',\n",
       " '600009.SH',\n",
       " '600197.SH',\n",
       " '600276.SH',\n",
       " '600398.SH',\n",
       " '600486.SH',\n",
       " '600809.SH',\n",
       " '603027.SH',\n",
       " '603136.SH',\n",
       " '603156.SH',\n",
       " '603515.SH',\n",
       " '603579.SH',\n",
       " '603607.SH',\n",
       " '603658.SH',\n",
       " '603711.SH',\n",
       " '603816.SH',\n",
       " '603886.SH',\n",
       " '603896.SH',\n",
       " '603898.SH',\n",
       " '603899.SH']"
      ]
     },
     "execution_count": 8,
     "metadata": {},
     "output_type": "execute_result"
    }
   ],
   "source": [
    "stock_list"
   ]
  },
  {
   "cell_type": "code",
   "execution_count": 4,
   "metadata": {},
   "outputs": [],
   "source": [
    "date = \"20191222\"\n",
    "\n",
    "stock_list2 = month_enter.get_secure_stock(date)"
   ]
  },
  {
   "cell_type": "code",
   "execution_count": null,
   "metadata": {},
   "outputs": [],
   "source": [
    "stock_list2"
   ]
  },
  {
   "cell_type": "code",
   "execution_count": null,
   "metadata": {},
   "outputs": [],
   "source": []
  }
 ],
 "metadata": {
  "kernelspec": {
   "display_name": "Python 3",
   "language": "python",
   "name": "python3"
  },
  "language_info": {
   "codemirror_mode": {
    "name": "ipython",
    "version": 3
   },
   "file_extension": ".py",
   "mimetype": "text/x-python",
   "name": "python",
   "nbconvert_exporter": "python",
   "pygments_lexer": "ipython3",
   "version": "3.7.3"
  }
 },
 "nbformat": 4,
 "nbformat_minor": 2
}
