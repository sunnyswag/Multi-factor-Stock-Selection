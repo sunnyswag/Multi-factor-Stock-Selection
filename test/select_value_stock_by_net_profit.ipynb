{
 "cells": [
  {
   "cell_type": "markdown",
   "metadata": {},
   "source": [
    "# 通过净利润的思想来挑选股票"
   ]
  },
  {
   "cell_type": "code",
   "execution_count": 1,
   "metadata": {},
   "outputs": [],
   "source": [
    "import pandas as pd\n",
    "import numpy as np\n",
    "import time\n",
    "\n",
    "import sys\n",
    "sys.path.append(\"../utils/\")\n",
    "import token_util\n",
    "pro = token_util.set_token()"
   ]
  },
  {
   "cell_type": "markdown",
   "metadata": {},
   "source": [
    "*获取股票列表*"
   ]
  },
  {
   "cell_type": "code",
   "execution_count": 2,
   "metadata": {},
   "outputs": [
    {
     "data": {
      "text/html": [
       "<div>\n",
       "<style scoped>\n",
       "    .dataframe tbody tr th:only-of-type {\n",
       "        vertical-align: middle;\n",
       "    }\n",
       "\n",
       "    .dataframe tbody tr th {\n",
       "        vertical-align: top;\n",
       "    }\n",
       "\n",
       "    .dataframe thead th {\n",
       "        text-align: right;\n",
       "    }\n",
       "</style>\n",
       "<table border=\"1\" class=\"dataframe\">\n",
       "  <thead>\n",
       "    <tr style=\"text-align: right;\">\n",
       "      <th></th>\n",
       "      <th>ts_code</th>\n",
       "      <th>name</th>\n",
       "      <th>total_mv</th>\n",
       "    </tr>\n",
       "  </thead>\n",
       "  <tbody>\n",
       "    <tr>\n",
       "      <th>0</th>\n",
       "      <td>000002.SZ</td>\n",
       "      <td>万科A</td>\n",
       "      <td>3.009761e+07</td>\n",
       "    </tr>\n",
       "    <tr>\n",
       "      <th>1</th>\n",
       "      <td>000012.SZ</td>\n",
       "      <td>南玻A</td>\n",
       "      <td>1.370715e+06</td>\n",
       "    </tr>\n",
       "    <tr>\n",
       "      <th>2</th>\n",
       "      <td>000016.SZ</td>\n",
       "      <td>深康佳A</td>\n",
       "      <td>2.090097e+06</td>\n",
       "    </tr>\n",
       "    <tr>\n",
       "      <th>3</th>\n",
       "      <td>000021.SZ</td>\n",
       "      <td>深科技</td>\n",
       "      <td>2.551164e+06</td>\n",
       "    </tr>\n",
       "    <tr>\n",
       "      <th>4</th>\n",
       "      <td>000027.SZ</td>\n",
       "      <td>深圳能源</td>\n",
       "      <td>2.128932e+06</td>\n",
       "    </tr>\n",
       "  </tbody>\n",
       "</table>\n",
       "</div>"
      ],
      "text/plain": [
       "     ts_code  name      total_mv\n",
       "0  000002.SZ   万科A  3.009761e+07\n",
       "1  000012.SZ   南玻A  1.370715e+06\n",
       "2  000016.SZ  深康佳A  2.090097e+06\n",
       "3  000021.SZ   深科技  2.551164e+06\n",
       "4  000027.SZ  深圳能源  2.128932e+06"
      ]
     },
     "execution_count": 2,
     "metadata": {},
     "output_type": "execute_result"
    }
   ],
   "source": [
    "stock_list = pd.read_csv(\"../data_pulled/stock_date_delta_priceNone.csv\")\n",
    "stock_list.head()"
   ]
  },
  {
   "cell_type": "code",
   "execution_count": 3,
   "metadata": {},
   "outputs": [
    {
     "data": {
      "text/plain": [
       "(749, 3)"
      ]
     },
     "execution_count": 3,
     "metadata": {},
     "output_type": "execute_result"
    }
   ],
   "source": [
    "stock_list.shape"
   ]
  },
  {
   "cell_type": "markdown",
   "metadata": {},
   "source": [
    "### 价值股\n",
    "1.ROE>10%</br>\n",
    "2.流动比率>150%，速动比率>100%</br>\n",
    "3.净利润逐年增长且大于10%</br>\n",
    "4.公司财务四年内都符合以上三个要求"
   ]
  },
  {
   "cell_type": "markdown",
   "metadata": {},
   "source": [
    "*获取数据*"
   ]
  },
  {
   "cell_type": "code",
   "execution_count": 4,
   "metadata": {},
   "outputs": [],
   "source": [
    "# 获取 roe\n",
    "def get_roe(ts_code, start, end):\n",
    "    for i in range(start, end):\n",
    "                \n",
    "        try:\n",
    "            \n",
    "            ret = pro.fina_indicator(ts_code=ts_code, period='201'+str(i)+'1231', fields='ts_code,end_date,roe')\n",
    "            rets = pd.concat([rets, ret], ignore_index=True) if i != 4 else ret\n",
    "            \n",
    "        except:\n",
    "            time.sleep(3)\n",
    "    \n",
    "    return rets.drop_duplicates()[:5].reset_index(drop=True)\n",
    "    \n",
    "\n",
    "# 获取 income\n",
    "def get_income(ts_code, start, end):\n",
    "    for i in range(start, end):\n",
    "        \n",
    "        try:\n",
    "            \n",
    "            ret = pro.income(ts_code=ts_code, period='201'+str(i)+'1231', fields='ts_code,end_date,n_income')\n",
    "            rets = pd.concat([rets, ret], ignore_index=True) if i != 4 else ret\n",
    "    \n",
    "        except:\n",
    "            time.sleep(3)\n",
    "            \n",
    "    return rets.drop_duplicates()[:5].reset_index(drop=True)\n",
    "\n",
    "# 获取资产负债信息\n",
    "def get_balancesheet(ts_code, start, end):\n",
    "    for i in range(start, end):\n",
    "        \n",
    "        try:\n",
    "        \n",
    "            ret = pro.balancesheet(ts_code=ts_code, period='201'+str(i)+'1231', fields='ts_code,end_date,inventories,\\\n",
    "                                    total_cur_assets, total_cur_liab')\n",
    "            ret[\"liquidity_ratio\"] = ret[\"total_cur_assets\"]/ret[\"total_cur_liab\"] * 100\n",
    "            ret[\"quick_ratio\"] = (ret[\"total_cur_assets\"]-ret[\"inventories\"])/ret[\"total_cur_liab\"] * 100\n",
    "            rets = pd.concat([rets, ret], ignore_index=True) if i != 4 else ret\n",
    "                            \n",
    "        except:\n",
    "            time.sleep(3)\n",
    "            \n",
    "    rets = rets.drop(labels=[\"inventories\",\"total_cur_assets\",\"total_cur_liab\"], axis=1)\n",
    "    \n",
    "    return rets.drop_duplicates()[:5].reset_index(drop=True)"
   ]
  },
  {
   "cell_type": "markdown",
   "metadata": {},
   "source": [
    "*获取处理后的数据*"
   ]
  },
  {
   "cell_type": "code",
   "execution_count": 5,
   "metadata": {},
   "outputs": [],
   "source": [
    "def get_data(stock_code, start, end):\n",
    "    data = get_roe(stock_code, start, end)\n",
    "    ret1 = get_income(stock_code, start, end)\n",
    "    ret2 = get_balancesheet(stock_code, start, end)\n",
    "\n",
    "    data[\"n_income\"] = ret1[\"n_income\"]\n",
    "    data[\"liquidity_ratio\"] = ret2[\"liquidity_ratio\"]\n",
    "    data[\"quick_ratio\"] = ret2[\"quick_ratio\"]\n",
    "    \n",
    "    return data"
   ]
  },
  {
   "cell_type": "markdown",
   "metadata": {},
   "source": [
    "*进行筛选*"
   ]
  },
  {
   "cell_type": "code",
   "execution_count": 10,
   "metadata": {},
   "outputs": [],
   "source": [
    "candidate_list = []\n",
    "\n",
    "for stock_code in stock_list[\"ts_code\"][617:]:\n",
    "    \n",
    "    data = get_data(stock_code, 4, 9)\n",
    "    pass_data = True\n",
    "    \n",
    "    for i in range(1, len(data)):\n",
    "        roe = data.iloc[i][\"roe\"]\n",
    "        n_income_last = data.iloc[i-1][\"n_income\"]\n",
    "        n_income_cur = data.iloc[i][\"n_income\"]\n",
    "        liquidity_ratio = data.iloc[i][\"liquidity_ratio\"]\n",
    "        quick_ratio = data.iloc[i][\"quick_ratio\"]\n",
    "\n",
    "        if roe > 10 and liquidity_ratio > 150 and quick_ratio > 100 and\\\n",
    "            n_income_cur > 0 and n_income_cur > n_income_last and\\\n",
    "            (n_income_cur - n_income_last) / n_income_last >= 0.15:\n",
    "            continue\n",
    "        else:\n",
    "            pass_data = False\n",
    "            break\n",
    "            \n",
    "    if pass_data is True:\n",
    "        candidate_list.append(stock_code)   "
   ]
  },
  {
   "cell_type": "code",
   "execution_count": 11,
   "metadata": {},
   "outputs": [],
   "source": [
    "# stock_code = \"000917.SZ\"\n",
    "# start, end = 4, 9\n",
    "\n",
    "# data = get_roe(stock_code, start, end)\n",
    "# ret1 = get_income(stock_code, start, end)\n",
    "# ret2 = get_balancesheet(stock_code, start, end)\n",
    "\n",
    "# data[\"n_income\"] = ret1[\"n_income\"]\n",
    "# data[\"liquidity_ratio\"] = ret2[\"liquidity_ratio\"]\n",
    "# data[\"quick_ratio\"] = ret2[\"quick_ratio\"]"
   ]
  },
  {
   "cell_type": "code",
   "execution_count": 12,
   "metadata": {},
   "outputs": [
    {
     "data": {
      "text/plain": [
       "6"
      ]
     },
     "execution_count": 12,
     "metadata": {},
     "output_type": "execute_result"
    }
   ],
   "source": [
    "len(candidate_list)"
   ]
  },
  {
   "cell_type": "code",
   "execution_count": 13,
   "metadata": {},
   "outputs": [
    {
     "data": {
      "text/plain": [
       "['603228.SH', '603338.SH', '603589.SH', '603658.SH', '603866.SH', '603899.SH']"
      ]
     },
     "execution_count": 13,
     "metadata": {},
     "output_type": "execute_result"
    }
   ],
   "source": [
    "candidate_list"
   ]
  },
  {
   "cell_type": "code",
   "execution_count": 9,
   "metadata": {},
   "outputs": [
    {
     "data": {
      "text/html": [
       "<div>\n",
       "<style scoped>\n",
       "    .dataframe tbody tr th:only-of-type {\n",
       "        vertical-align: middle;\n",
       "    }\n",
       "\n",
       "    .dataframe tbody tr th {\n",
       "        vertical-align: top;\n",
       "    }\n",
       "\n",
       "    .dataframe thead th {\n",
       "        text-align: right;\n",
       "    }\n",
       "</style>\n",
       "<table border=\"1\" class=\"dataframe\">\n",
       "  <thead>\n",
       "    <tr style=\"text-align: right;\">\n",
       "      <th></th>\n",
       "      <th>ts_code</th>\n",
       "      <th>name</th>\n",
       "      <th>total_mv</th>\n",
       "    </tr>\n",
       "  </thead>\n",
       "  <tbody>\n",
       "    <tr>\n",
       "      <th>617</th>\n",
       "      <td>600901.SH</td>\n",
       "      <td>江苏租赁</td>\n",
       "      <td>1.523191e+06</td>\n",
       "    </tr>\n",
       "  </tbody>\n",
       "</table>\n",
       "</div>"
      ],
      "text/plain": [
       "       ts_code  name      total_mv\n",
       "617  600901.SH  江苏租赁  1.523191e+06"
      ]
     },
     "execution_count": 9,
     "metadata": {},
     "output_type": "execute_result"
    }
   ],
   "source": [
    "stock_list[(stock_list[\"ts_code\"] == stock_code)]"
   ]
  },
  {
   "cell_type": "code",
   "execution_count": null,
   "metadata": {},
   "outputs": [],
   "source": []
  }
 ],
 "metadata": {
  "kernelspec": {
   "display_name": "Python 3",
   "language": "python",
   "name": "python3"
  },
  "language_info": {
   "codemirror_mode": {
    "name": "ipython",
    "version": 3
   },
   "file_extension": ".py",
   "mimetype": "text/x-python",
   "name": "python",
   "nbconvert_exporter": "python",
   "pygments_lexer": "ipython3",
   "version": "3.7.3"
  }
 },
 "nbformat": 4,
 "nbformat_minor": 2
}
