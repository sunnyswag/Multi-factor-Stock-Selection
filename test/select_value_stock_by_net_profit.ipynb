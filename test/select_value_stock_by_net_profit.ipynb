{
 "cells": [
  {
   "cell_type": "markdown",
   "metadata": {},
   "source": [
    "# 挑选长期成长的价值股"
   ]
  },
  {
   "cell_type": "code",
   "execution_count": 1,
   "metadata": {},
   "outputs": [],
   "source": [
    "import pandas as pd\n",
    "import numpy as np\n",
    "import time\n",
    "\n",
    "import datetime\n",
    "\n",
    "import sys\n",
    "sys.path.append(\"../utils/\")\n",
    "import token_util\n",
    "pro = token_util.set_token()"
   ]
  },
  {
   "cell_type": "markdown",
   "metadata": {},
   "source": [
    "*获取股票列表*"
   ]
  },
  {
   "cell_type": "code",
   "execution_count": 2,
   "metadata": {},
   "outputs": [
    {
     "data": {
      "text/html": [
       "<div>\n",
       "<style scoped>\n",
       "    .dataframe tbody tr th:only-of-type {\n",
       "        vertical-align: middle;\n",
       "    }\n",
       "\n",
       "    .dataframe tbody tr th {\n",
       "        vertical-align: top;\n",
       "    }\n",
       "\n",
       "    .dataframe thead th {\n",
       "        text-align: right;\n",
       "    }\n",
       "</style>\n",
       "<table border=\"1\" class=\"dataframe\">\n",
       "  <thead>\n",
       "    <tr style=\"text-align: right;\">\n",
       "      <th></th>\n",
       "      <th>ts_code</th>\n",
       "      <th>name</th>\n",
       "    </tr>\n",
       "  </thead>\n",
       "  <tbody>\n",
       "    <tr>\n",
       "      <th>0</th>\n",
       "      <td>000002.SZ</td>\n",
       "      <td>万科A</td>\n",
       "    </tr>\n",
       "    <tr>\n",
       "      <th>1</th>\n",
       "      <td>000005.SZ</td>\n",
       "      <td>世纪星源</td>\n",
       "    </tr>\n",
       "    <tr>\n",
       "      <th>2</th>\n",
       "      <td>000006.SZ</td>\n",
       "      <td>深振业A</td>\n",
       "    </tr>\n",
       "    <tr>\n",
       "      <th>3</th>\n",
       "      <td>000007.SZ</td>\n",
       "      <td>全新好</td>\n",
       "    </tr>\n",
       "    <tr>\n",
       "      <th>4</th>\n",
       "      <td>000008.SZ</td>\n",
       "      <td>神州高铁</td>\n",
       "    </tr>\n",
       "  </tbody>\n",
       "</table>\n",
       "</div>"
      ],
      "text/plain": [
       "     ts_code  name\n",
       "0  000002.SZ   万科A\n",
       "1  000005.SZ  世纪星源\n",
       "2  000006.SZ  深振业A\n",
       "3  000007.SZ   全新好\n",
       "4  000008.SZ  神州高铁"
      ]
     },
     "execution_count": 2,
     "metadata": {},
     "output_type": "execute_result"
    }
   ],
   "source": [
    "stock_list = pd.read_csv(\"../data_pulled/stock_date_delta_priceNone.csv\")\n",
    "stock_list.head()"
   ]
  },
  {
   "cell_type": "code",
   "execution_count": 3,
   "metadata": {},
   "outputs": [
    {
     "data": {
      "text/plain": [
       "(3093, 2)"
      ]
     },
     "execution_count": 3,
     "metadata": {},
     "output_type": "execute_result"
    }
   ],
   "source": [
    "stock_list.shape"
   ]
  },
  {
   "cell_type": "markdown",
   "metadata": {},
   "source": [
    "### 价值股\n",
    "1.ROE>10%</br>\n",
    "2.流动比率>150%，速动比率>100%</br>\n",
    "3.净利润逐年增长且大于10%</br>\n",
    "4.公司财务四年内都符合以上三个要求"
   ]
  },
  {
   "cell_type": "markdown",
   "metadata": {},
   "source": [
    "*获取数据*"
   ]
  },
  {
   "cell_type": "code",
   "execution_count": 4,
   "metadata": {},
   "outputs": [],
   "source": [
    "# 获取 roe\n",
    "def get_roe(ts_code, time_list):\n",
    "    for i in range(len(time_list)):\n",
    "                \n",
    "        ret = pro.fina_indicator(ts_code=ts_code, period='20'+str(time_list[i])+'1231', fields='ts_code,end_date,roe')\n",
    "        rets = pd.concat([rets, ret], ignore_index=True) if i != 0 else ret\n",
    "    \n",
    "    return rets.drop_duplicates()[:5].reset_index(drop=True)\n",
    "    \n",
    "\n",
    "# 获取 income\n",
    "def get_income(ts_code, time_list):\n",
    "    for i in range(len(time_list)):\n",
    "\n",
    "        ret = pro.income(ts_code=ts_code, period='20'+str(time_list[i])+'1231', fields='ts_code,end_date,n_income')\n",
    "        rets = pd.concat([rets, ret], ignore_index=True) if i != 0 else ret\n",
    "\n",
    "    return rets.drop_duplicates()[:5].reset_index(drop=True)\n",
    "\n",
    "# 获取资产负债信息\n",
    "def get_balancesheet(ts_code, time_list):\n",
    "    for i in range(len(time_list)):\n",
    "        \n",
    "        ret = pro.balancesheet(ts_code=ts_code, period='20'+str(time_list[i])+'1231', fields='ts_code,end_date,inventories,\\\n",
    "                                total_cur_assets, total_cur_liab')\n",
    "        ret[\"liquidity_ratio\"] = ret[\"total_cur_assets\"]/ret[\"total_cur_liab\"] * 100\n",
    "        ret[\"quick_ratio\"] = (ret[\"total_cur_assets\"]-ret[\"inventories\"])/ret[\"total_cur_liab\"] * 100\n",
    "        rets = pd.concat([rets, ret], ignore_index=True) if i != 0 else ret\n",
    "            \n",
    "    rets = rets.drop(labels=[\"inventories\",\"total_cur_assets\",\"total_cur_liab\"], axis=1)\n",
    "    \n",
    "    return rets.drop_duplicates()[:5].reset_index(drop=True)"
   ]
  },
  {
   "cell_type": "markdown",
   "metadata": {},
   "source": [
    "*获取处理后的数据*"
   ]
  },
  {
   "cell_type": "code",
   "execution_count": 5,
   "metadata": {},
   "outputs": [],
   "source": [
    "def get_data(stock_code, time_list):\n",
    "    data = get_roe(stock_code, time_list)\n",
    "    ret1 = get_income(stock_code, time_list)\n",
    "    ret2 = get_balancesheet(stock_code, time_list)\n",
    "\n",
    "    data[\"n_income\"] = ret1[\"n_income\"]\n",
    "    data[\"liquidity_ratio\"] = ret2[\"liquidity_ratio\"]\n",
    "    data[\"quick_ratio\"] = ret2[\"quick_ratio\"]\n",
    "    \n",
    "    return data"
   ]
  },
  {
   "cell_type": "markdown",
   "metadata": {},
   "source": [
    "*进行筛选*"
   ]
  },
  {
   "cell_type": "code",
   "execution_count": 6,
   "metadata": {},
   "outputs": [
    {
     "name": "stdout",
     "output_type": "stream",
     "text": [
      "task accomplish: 0.03 %, cost time : 8.42 minutes\n",
      "task accomplish: 0.06 %, cost time : 16.0 minutes\n",
      "task accomplish: 0.1 %, cost time : 21.27 minutes\n",
      "task accomplish: 0.13 %, cost time : 26.8 minutes\n",
      "task accomplish: 0.16 %, cost time : 31.17 minutes\n",
      "task accomplish: 0.19 %, cost time : 35.63 minutes\n",
      "task accomplish: 0.23 %, cost time : 40.03 minutes\n",
      "task accomplish: 0.26 %, cost time : 45.63 minutes\n",
      "task accomplish: 0.29 %, cost time : 50.28 minutes\n",
      "task accomplish: 0.32 %, cost time : 54.85 minutes\n",
      "task accomplish: 0.36 %, cost time : 59.17 minutes\n",
      "task accomplish: 0.39 %, cost time : 63.48 minutes\n",
      "task accomplish: 0.42 %, cost time : 67.9 minutes\n",
      "task accomplish: 0.45 %, cost time : 72.15 minutes\n",
      "task accomplish: 0.49 %, cost time : 76.4 minutes\n",
      "task accomplish: 0.52 %, cost time : 80.65 minutes\n",
      "task accomplish: 0.55 %, cost time : 84.67 minutes\n",
      "task accomplish: 0.58 %, cost time : 88.65 minutes\n",
      "task accomplish: 0.61 %, cost time : 93.6 minutes\n",
      "task accomplish: 0.65 %, cost time : 98.13 minutes\n",
      "task accomplish: 0.68 %, cost time : 102.33 minutes\n",
      "task accomplish: 0.71 %, cost time : 106.68 minutes\n",
      "task accomplish: 0.74 %, cost time : 111.7 minutes\n",
      "task accomplish: 0.78 %, cost time : 117.65 minutes\n",
      "task accomplish: 0.81 %, cost time : 122.47 minutes\n",
      "task accomplish: 0.84 %, cost time : 127.08 minutes\n",
      "task accomplish: 0.87 %, cost time : 131.53 minutes\n",
      "task accomplish: 0.91 %, cost time : 135.93 minutes\n",
      "task accomplish: 0.94 %, cost time : 140.08 minutes\n",
      "task accomplish: 0.97 %, cost time : 144.57 minutes\n",
      "finish task !! total time : 148.62 minutes\n"
     ]
    }
   ],
   "source": [
    "candidate_list = []\n",
    "time_list = [15, 16, 17, 18, 19, 20]\n",
    "times = 0\n",
    "starttime = datetime.datetime.now()\n",
    "len_stock = len(stock_list)\n",
    "\n",
    "while True:\n",
    "    \n",
    "    # 发生中断后，防止遗漏\n",
    "    start_index = 0\n",
    "    \n",
    "    for cur_index in range(start_index, len_stock):\n",
    "        \n",
    "        start_index = cur_index\n",
    "\n",
    "        try:\n",
    "            data = get_data(stock_list[\"ts_code\"][cur_index], time_list)\n",
    "        except:\n",
    "            time.sleep(5)\n",
    "        \n",
    "        times += 1\n",
    "        pass_data = True\n",
    "\n",
    "        for i in range(1, len(data)):\n",
    "            roe = data.iloc[i][\"roe\"]\n",
    "            n_income_last = data.iloc[i-1][\"n_income\"]\n",
    "            n_income_cur = data.iloc[i][\"n_income\"]\n",
    "            liquidity_ratio = data.iloc[i][\"liquidity_ratio\"]\n",
    "            quick_ratio = data.iloc[i][\"quick_ratio\"]\n",
    "\n",
    "            if roe > 10 and liquidity_ratio > 150 and quick_ratio > 100 and\\\n",
    "                n_income_cur > 0 and n_income_cur > n_income_last and\\\n",
    "                (n_income_cur - n_income_last) / n_income_last >= 0.1:\n",
    "                continue\n",
    "            else:\n",
    "                pass_data = False\n",
    "                break\n",
    "\n",
    "        if pass_data is True:\n",
    "            candidate_list.append(stock_list[\"ts_code\"][cur_index])\n",
    "\n",
    "        if cur_index != 0 and cur_index % 100 == 0:\n",
    "            endtime = datetime.datetime.now()\n",
    "            print(\"task accomplish: {} %, cost time : {} minutes\".format(round((cur_index+1)/len_stock, 2), \\\n",
    "                                            round((endtime - starttime).seconds / 60, 2)))\n",
    "\n",
    "    if cur_index >= len_stock - 1:\n",
    "        endtime = datetime.datetime.now()\n",
    "        print(\"finish task !! total time : {} minutes\".format(round((endtime - starttime).seconds / 60, 2)))\n",
    "        break"
   ]
  },
  {
   "cell_type": "code",
   "execution_count": 7,
   "metadata": {},
   "outputs": [
    {
     "data": {
      "text/plain": [
       "122"
      ]
     },
     "execution_count": 7,
     "metadata": {},
     "output_type": "execute_result"
    }
   ],
   "source": [
    "len(candidate_list)"
   ]
  },
  {
   "cell_type": "code",
   "execution_count": 8,
   "metadata": {},
   "outputs": [
    {
     "data": {
      "text/plain": [
       "['000568.SZ',\n",
       " '000596.SZ',\n",
       " '000661.SZ',\n",
       " '000813.SZ',\n",
       " '000858.SZ',\n",
       " '000963.SZ',\n",
       " '002001.SZ',\n",
       " '002025.SZ',\n",
       " '002032.SZ',\n",
       " '002127.SZ',\n",
       " '002223.SZ',\n",
       " '002262.SZ',\n",
       " '002372.SZ',\n",
       " '002376.SZ',\n",
       " '002402.SZ',\n",
       " '002415.SZ',\n",
       " '002468.SZ',\n",
       " '002587.SZ',\n",
       " '002602.SZ',\n",
       " '002614.SZ',\n",
       " '002624.SZ',\n",
       " '002626.SZ',\n",
       " '002677.SZ',\n",
       " '002777.SZ',\n",
       " '002821.SZ',\n",
       " '002833.SZ',\n",
       " '002838.SZ',\n",
       " '002853.SZ',\n",
       " '002860.SZ',\n",
       " '002871.SZ',\n",
       " '002878.SZ',\n",
       " '002882.SZ',\n",
       " '002884.SZ',\n",
       " '002901.SZ',\n",
       " '002907.SZ',\n",
       " '002937.SZ',\n",
       " '002943.SZ',\n",
       " '300015.SZ',\n",
       " '300124.SZ',\n",
       " '300144.SZ',\n",
       " '300251.SZ',\n",
       " '300271.SZ',\n",
       " '300294.SZ',\n",
       " '300320.SZ',\n",
       " '300326.SZ',\n",
       " '300365.SZ',\n",
       " '300395.SZ',\n",
       " '300396.SZ',\n",
       " '300400.SZ',\n",
       " '300448.SZ',\n",
       " '300463.SZ',\n",
       " '300481.SZ',\n",
       " '300482.SZ',\n",
       " '300546.SZ',\n",
       " '300547.SZ',\n",
       " '300572.SZ',\n",
       " '300577.SZ',\n",
       " '300595.SZ',\n",
       " '300606.SZ',\n",
       " '300607.SZ',\n",
       " '300608.SZ',\n",
       " '300609.SZ',\n",
       " '300623.SZ',\n",
       " '300628.SZ',\n",
       " '300630.SZ',\n",
       " '300632.SZ',\n",
       " '300633.SZ',\n",
       " '300634.SZ',\n",
       " '300639.SZ',\n",
       " '300642.SZ',\n",
       " '300661.SZ',\n",
       " '300667.SZ',\n",
       " '300673.SZ',\n",
       " '300699.SZ',\n",
       " '300701.SZ',\n",
       " '300723.SZ',\n",
       " '300725.SZ',\n",
       " '300732.SZ',\n",
       " '300747.SZ',\n",
       " '300753.SZ',\n",
       " '300762.SZ',\n",
       " '600009.SH',\n",
       " '600167.SH',\n",
       " '600276.SH',\n",
       " '600585.SH',\n",
       " '600771.SH',\n",
       " '600809.SH',\n",
       " '601799.SH',\n",
       " '601869.SH',\n",
       " '603027.SH',\n",
       " '603037.SH',\n",
       " '603043.SH',\n",
       " '603203.SH',\n",
       " '603288.SH',\n",
       " '603289.SH',\n",
       " '603297.SH',\n",
       " '603298.SH',\n",
       " '603338.SH',\n",
       " '603357.SH',\n",
       " '603368.SH',\n",
       " '603369.SH',\n",
       " '603387.SH',\n",
       " '603416.SH',\n",
       " '603515.SH',\n",
       " '603517.SH',\n",
       " '603568.SH',\n",
       " '603583.SH',\n",
       " '603585.SH',\n",
       " '603589.SH',\n",
       " '603639.SH',\n",
       " '603650.SH',\n",
       " '603658.SH',\n",
       " '603660.SH',\n",
       " '603666.SH',\n",
       " '603679.SH',\n",
       " '603701.SH',\n",
       " '603790.SH',\n",
       " '603808.SH',\n",
       " '603809.SH',\n",
       " '603848.SH',\n",
       " '603899.SH',\n",
       " '603960.SH']"
      ]
     },
     "execution_count": 8,
     "metadata": {},
     "output_type": "execute_result"
    }
   ],
   "source": [
    "candidate_list"
   ]
  },
  {
   "cell_type": "code",
   "execution_count": 9,
   "metadata": {},
   "outputs": [
    {
     "data": {
      "text/html": [
       "<div>\n",
       "<style scoped>\n",
       "    .dataframe tbody tr th:only-of-type {\n",
       "        vertical-align: middle;\n",
       "    }\n",
       "\n",
       "    .dataframe tbody tr th {\n",
       "        vertical-align: top;\n",
       "    }\n",
       "\n",
       "    .dataframe thead th {\n",
       "        text-align: right;\n",
       "    }\n",
       "</style>\n",
       "<table border=\"1\" class=\"dataframe\">\n",
       "  <thead>\n",
       "    <tr style=\"text-align: right;\">\n",
       "      <th></th>\n",
       "      <th>ts_code</th>\n",
       "      <th>name</th>\n",
       "    </tr>\n",
       "  </thead>\n",
       "  <tbody>\n",
       "    <tr>\n",
       "      <th>3092</th>\n",
       "      <td>603999.SH</td>\n",
       "      <td>读者传媒</td>\n",
       "    </tr>\n",
       "  </tbody>\n",
       "</table>\n",
       "</div>"
      ],
      "text/plain": [
       "        ts_code  name\n",
       "3092  603999.SH  读者传媒"
      ]
     },
     "execution_count": 9,
     "metadata": {},
     "output_type": "execute_result"
    }
   ],
   "source": [
    "stock_list[(stock_list[\"ts_code\"] == stock_list[\"ts_code\"][cur_index])]"
   ]
  },
  {
   "cell_type": "code",
   "execution_count": null,
   "metadata": {},
   "outputs": [],
   "source": []
  }
 ],
 "metadata": {
  "kernelspec": {
   "display_name": "Python 3",
   "language": "python",
   "name": "python3"
  },
  "language_info": {
   "codemirror_mode": {
    "name": "ipython",
    "version": 3
   },
   "file_extension": ".py",
   "mimetype": "text/x-python",
   "name": "python",
   "nbconvert_exporter": "python",
   "pygments_lexer": "ipython3",
   "version": "3.7.3"
  }
 },
 "nbformat": 4,
 "nbformat_minor": 2
}
