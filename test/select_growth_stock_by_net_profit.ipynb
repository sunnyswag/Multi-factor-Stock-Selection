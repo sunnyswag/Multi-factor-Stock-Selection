{
 "cells": [
  {
   "cell_type": "code",
   "execution_count": 1,
   "metadata": {},
   "outputs": [],
   "source": [
    "import pandas as pd\n",
    "import numpy as np\n",
    "import pdb\n",
    "import time\n",
    "\n",
    "import sys\n",
    "sys.path.append(\"../utils/\")\n",
    "import token_util\n",
    "pro = token_util.set_token()"
   ]
  },
  {
   "cell_type": "markdown",
   "metadata": {},
   "source": [
    "*获取股票列表*"
   ]
  },
  {
   "cell_type": "code",
   "execution_count": 2,
   "metadata": {},
   "outputs": [
    {
     "name": "stdout",
     "output_type": "stream",
     "text": [
      "stock_list.shape:  (770, 4)\n",
      "\n"
     ]
    },
    {
     "data": {
      "text/html": [
       "<div>\n",
       "<style scoped>\n",
       "    .dataframe tbody tr th:only-of-type {\n",
       "        vertical-align: middle;\n",
       "    }\n",
       "\n",
       "    .dataframe tbody tr th {\n",
       "        vertical-align: top;\n",
       "    }\n",
       "\n",
       "    .dataframe thead th {\n",
       "        text-align: right;\n",
       "    }\n",
       "</style>\n",
       "<table border=\"1\" class=\"dataframe\">\n",
       "  <thead>\n",
       "    <tr style=\"text-align: right;\">\n",
       "      <th></th>\n",
       "      <th>Unnamed: 0</th>\n",
       "      <th>ts_code</th>\n",
       "      <th>name</th>\n",
       "      <th>total_mv</th>\n",
       "    </tr>\n",
       "  </thead>\n",
       "  <tbody>\n",
       "    <tr>\n",
       "      <th>0</th>\n",
       "      <td>0</td>\n",
       "      <td>000002.SZ</td>\n",
       "      <td>万科A</td>\n",
       "      <td>3.009761e+07</td>\n",
       "    </tr>\n",
       "    <tr>\n",
       "      <th>1</th>\n",
       "      <td>1</td>\n",
       "      <td>000012.SZ</td>\n",
       "      <td>南玻A</td>\n",
       "      <td>1.370715e+06</td>\n",
       "    </tr>\n",
       "    <tr>\n",
       "      <th>2</th>\n",
       "      <td>2</td>\n",
       "      <td>000016.SZ</td>\n",
       "      <td>深康佳A</td>\n",
       "      <td>2.090097e+06</td>\n",
       "    </tr>\n",
       "    <tr>\n",
       "      <th>3</th>\n",
       "      <td>3</td>\n",
       "      <td>000021.SZ</td>\n",
       "      <td>深科技</td>\n",
       "      <td>2.551164e+06</td>\n",
       "    </tr>\n",
       "    <tr>\n",
       "      <th>4</th>\n",
       "      <td>4</td>\n",
       "      <td>000027.SZ</td>\n",
       "      <td>深圳能源</td>\n",
       "      <td>2.128932e+06</td>\n",
       "    </tr>\n",
       "  </tbody>\n",
       "</table>\n",
       "</div>"
      ],
      "text/plain": [
       "   Unnamed: 0    ts_code  name      total_mv\n",
       "0           0  000002.SZ   万科A  3.009761e+07\n",
       "1           1  000012.SZ   南玻A  1.370715e+06\n",
       "2           2  000016.SZ  深康佳A  2.090097e+06\n",
       "3           3  000021.SZ   深科技  2.551164e+06\n",
       "4           4  000027.SZ  深圳能源  2.128932e+06"
      ]
     },
     "execution_count": 2,
     "metadata": {},
     "output_type": "execute_result"
    }
   ],
   "source": [
    "stock_list = pd.read_csv(\"../data_pulled/stock_date_delta_priceNone.csv\")\n",
    "print(\"stock_list.shape: \", stock_list.shape)\n",
    "print(\"\")\n",
    "stock_list.head()"
   ]
  },
  {
   "cell_type": "code",
   "execution_count": 2,
   "metadata": {},
   "outputs": [],
   "source": [
    "# 获取市值大于100亿的股票\n",
    "\n",
    "# for i in range(len(stock_list)):\n",
    "    \n",
    "#     try:\n",
    "        \n",
    "#         df = pro.daily_basic(ts_code=stock_list[\"ts_code\"][i], trade_date='20200401', fields='ts_code,total_mv')\n",
    "#         stock_list.loc[i, \"total_mv\"] = df.loc[0, \"total_mv\"] if df.empty is False else 0\n",
    "        \n",
    "#     except:\n",
    "#         time.sleep(3)\n",
    "\n",
    "# stock_list = stock_list[stock_list[\"total_mv\"] > 1000000].reset_index(drop=True)\n",
    "# stock_list.to_csv(\"growth_stock_list_100.csv\", index=False)"
   ]
  },
  {
   "cell_type": "markdown",
   "metadata": {},
   "source": [
    "### 成长股\n",
    "某季度净利润增长超过150%<br>\n",
    "市值大于100亿<br>\n",
    "某季度和对应的上季度未出现亏损"
   ]
  },
  {
   "cell_type": "code",
   "execution_count": 3,
   "metadata": {},
   "outputs": [],
   "source": [
    "# 判断某股票某段时间内的净利润增长率是否符合要求\n",
    "def judge_profit_yoy(ts_code, start_fina_indicator, start_income, end, profit_threshold):\n",
    "    \n",
    "    try:\n",
    "        profit_ok = False\n",
    "\n",
    "        ret = pro.fina_indicator(ts_code=ts_code, start_date=start_fina_indicator, \\\n",
    "                                 end_date=end, fields='ts_code,end_date,q_profit_yoy')\n",
    "        for q_profit in ret[\"q_profit_yoy\"]:\n",
    "            if q_profit > profit_threshold:\n",
    "                ret = pro.income(ts_code=ts_code, start_date=start_income, end_date=end, \\\n",
    "                         fields='ts_code,end_date,n_income')\n",
    "                ret = ret.drop_duplicates().reset_index(drop=True)\n",
    "                for n_income in ret[\"n_income\"]:\n",
    "                    if n_income > 0:\n",
    "                        continue\n",
    "                    else:\n",
    "                        break\n",
    "                        \n",
    "                profit_ok = True\n",
    "                \n",
    "            else:\n",
    "                continue\n",
    "\n",
    "    except:\n",
    "        time.sleep(3)\n",
    "            \n",
    "    return profit_ok"
   ]
  },
  {
   "cell_type": "markdown",
   "metadata": {},
   "source": [
    "*进行筛选*"
   ]
  },
  {
   "cell_type": "code",
   "execution_count": 4,
   "metadata": {},
   "outputs": [],
   "source": [
    "candidate_list = []\n",
    "\n",
    "for stock_code in stock_list[\"ts_code\"]:\n",
    "    \n",
    "    profit_ok = judge_profit_yoy(stock_code, '20190101', '20180101', '20191230', 150)\n",
    "    if profit_ok:\n",
    "        candidate_list.append(stock_code)"
   ]
  },
  {
   "cell_type": "code",
   "execution_count": 5,
   "metadata": {},
   "outputs": [
    {
     "data": {
      "text/plain": [
       "134"
      ]
     },
     "execution_count": 5,
     "metadata": {},
     "output_type": "execute_result"
    }
   ],
   "source": [
    "len(candidate_list)"
   ]
  },
  {
   "cell_type": "code",
   "execution_count": 6,
   "metadata": {},
   "outputs": [
    {
     "data": {
      "text/plain": [
       "['000027.SZ',\n",
       " '000061.SZ',\n",
       " '000301.SZ',\n",
       " '000400.SZ',\n",
       " '000403.SZ',\n",
       " '000415.SZ',\n",
       " '000539.SZ',\n",
       " '000656.SZ',\n",
       " '000690.SZ',\n",
       " '000710.SZ',\n",
       " '000712.SZ',\n",
       " '000732.SZ',\n",
       " '000785.SZ',\n",
       " '000807.SZ',\n",
       " '000810.SZ',\n",
       " '000877.SZ',\n",
       " '000958.SZ',\n",
       " '000987.SZ',\n",
       " '000999.SZ',\n",
       " '001872.SZ',\n",
       " '002024.SZ',\n",
       " '002028.SZ',\n",
       " '002124.SZ',\n",
       " '002151.SZ',\n",
       " '002157.SZ',\n",
       " '002180.SZ',\n",
       " '002194.SZ',\n",
       " '002216.SZ',\n",
       " '002230.SZ',\n",
       " '002250.SZ',\n",
       " '002252.SZ',\n",
       " '002291.SZ',\n",
       " '002299.SZ',\n",
       " '002324.SZ',\n",
       " '002353.SZ',\n",
       " '002399.SZ',\n",
       " '002409.SZ',\n",
       " '002414.SZ',\n",
       " '002429.SZ',\n",
       " '002439.SZ',\n",
       " '002458.SZ',\n",
       " '002463.SZ',\n",
       " '002481.SZ',\n",
       " '002498.SZ',\n",
       " '002594.SZ',\n",
       " '002600.SZ',\n",
       " '002605.SZ',\n",
       " '002625.SZ',\n",
       " '002647.SZ',\n",
       " '002683.SZ',\n",
       " '002714.SZ',\n",
       " '002797.SZ',\n",
       " '300001.SZ',\n",
       " '300012.SZ',\n",
       " '300014.SZ',\n",
       " '300017.SZ',\n",
       " '300115.SZ',\n",
       " '300118.SZ',\n",
       " '300168.SZ',\n",
       " '300212.SZ',\n",
       " '300223.SZ',\n",
       " '300236.SZ',\n",
       " '300251.SZ',\n",
       " '300352.SZ',\n",
       " '300363.SZ',\n",
       " '300379.SZ',\n",
       " '300498.SZ',\n",
       " '300502.SZ',\n",
       " '300602.SZ',\n",
       " '300682.SZ',\n",
       " '300702.SZ',\n",
       " '300735.SZ',\n",
       " '300737.SZ',\n",
       " '600025.SH',\n",
       " '600039.SH',\n",
       " '600060.SH',\n",
       " '600064.SH',\n",
       " '600094.SH',\n",
       " '600100.SH',\n",
       " '600155.SH',\n",
       " '600157.SH',\n",
       " '600166.SH',\n",
       " '600171.SH',\n",
       " '600206.SH',\n",
       " '600216.SH',\n",
       " '600266.SH',\n",
       " '600267.SH',\n",
       " '600312.SH',\n",
       " '600346.SH',\n",
       " '600376.SH',\n",
       " '600410.SH',\n",
       " '600435.SH',\n",
       " '600466.SH',\n",
       " '600517.SH',\n",
       " '600521.SH',\n",
       " '600570.SH',\n",
       " '600578.SH',\n",
       " '600580.SH',\n",
       " '600584.SH',\n",
       " '600588.SH',\n",
       " '600604.SH',\n",
       " '600621.SH',\n",
       " '600633.SH',\n",
       " '600635.SH',\n",
       " '600699.SH',\n",
       " '600707.SH',\n",
       " '600728.SH',\n",
       " '600729.SH',\n",
       " '600739.SH',\n",
       " '600745.SH',\n",
       " '600777.SH',\n",
       " '600823.SH',\n",
       " '600863.SH',\n",
       " '600864.SH',\n",
       " '600871.SH',\n",
       " '600984.SH',\n",
       " '601012.SH',\n",
       " '601099.SH',\n",
       " '601360.SH',\n",
       " '601567.SH',\n",
       " '601633.SH',\n",
       " '601865.SH',\n",
       " '601880.SH',\n",
       " '601933.SH',\n",
       " '601975.SH',\n",
       " '601992.SH',\n",
       " '603005.SH',\n",
       " '603068.SH',\n",
       " '603077.SH',\n",
       " '603160.SH',\n",
       " '603456.SH',\n",
       " '603609.SH',\n",
       " '603712.SH',\n",
       " '603882.SH']"
      ]
     },
     "execution_count": 6,
     "metadata": {},
     "output_type": "execute_result"
    }
   ],
   "source": [
    "candidate_list"
   ]
  },
  {
   "cell_type": "code",
   "execution_count": null,
   "metadata": {},
   "outputs": [],
   "source": [
    "stock_list[(stock_list[\"ts_code\"] == stock_code)]"
   ]
  }
 ],
 "metadata": {
  "kernelspec": {
   "display_name": "Python 3",
   "language": "python",
   "name": "python3"
  },
  "language_info": {
   "codemirror_mode": {
    "name": "ipython",
    "version": 3
   },
   "file_extension": ".py",
   "mimetype": "text/x-python",
   "name": "python",
   "nbconvert_exporter": "python",
   "pygments_lexer": "ipython3",
   "version": "3.7.3"
  }
 },
 "nbformat": 4,
 "nbformat_minor": 2
}
