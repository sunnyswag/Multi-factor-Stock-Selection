{
 "cells": [
  {
   "cell_type": "markdown",
   "metadata": {},
   "source": [
    "# 通过净利润的思想来挑选股票"
   ]
  },
  {
   "cell_type": "code",
   "execution_count": 1,
   "metadata": {},
   "outputs": [],
   "source": [
    "import pandas as pd\n",
    "import numpy as np\n",
    "import pdb\n",
    "import time\n",
    "\n",
    "import datetime\n",
    "\n",
    "import sys\n",
    "sys.path.append(\"../utils/\")\n",
    "import token_util\n",
    "pro = token_util.set_token()"
   ]
  },
  {
   "cell_type": "markdown",
   "metadata": {},
   "source": [
    "*获取股票列表*"
   ]
  },
  {
   "cell_type": "code",
   "execution_count": 2,
   "metadata": {},
   "outputs": [
    {
     "name": "stdout",
     "output_type": "stream",
     "text": [
      "stock_list.shape:  (3093, 2)\n",
      "\n"
     ]
    },
    {
     "data": {
      "text/html": [
       "<div>\n",
       "<style scoped>\n",
       "    .dataframe tbody tr th:only-of-type {\n",
       "        vertical-align: middle;\n",
       "    }\n",
       "\n",
       "    .dataframe tbody tr th {\n",
       "        vertical-align: top;\n",
       "    }\n",
       "\n",
       "    .dataframe thead th {\n",
       "        text-align: right;\n",
       "    }\n",
       "</style>\n",
       "<table border=\"1\" class=\"dataframe\">\n",
       "  <thead>\n",
       "    <tr style=\"text-align: right;\">\n",
       "      <th></th>\n",
       "      <th>ts_code</th>\n",
       "      <th>name</th>\n",
       "    </tr>\n",
       "  </thead>\n",
       "  <tbody>\n",
       "    <tr>\n",
       "      <th>0</th>\n",
       "      <td>000002.SZ</td>\n",
       "      <td>万科A</td>\n",
       "    </tr>\n",
       "    <tr>\n",
       "      <th>1</th>\n",
       "      <td>000005.SZ</td>\n",
       "      <td>世纪星源</td>\n",
       "    </tr>\n",
       "    <tr>\n",
       "      <th>2</th>\n",
       "      <td>000006.SZ</td>\n",
       "      <td>深振业A</td>\n",
       "    </tr>\n",
       "    <tr>\n",
       "      <th>3</th>\n",
       "      <td>000007.SZ</td>\n",
       "      <td>全新好</td>\n",
       "    </tr>\n",
       "    <tr>\n",
       "      <th>4</th>\n",
       "      <td>000008.SZ</td>\n",
       "      <td>神州高铁</td>\n",
       "    </tr>\n",
       "  </tbody>\n",
       "</table>\n",
       "</div>"
      ],
      "text/plain": [
       "     ts_code  name\n",
       "0  000002.SZ   万科A\n",
       "1  000005.SZ  世纪星源\n",
       "2  000006.SZ  深振业A\n",
       "3  000007.SZ   全新好\n",
       "4  000008.SZ  神州高铁"
      ]
     },
     "execution_count": 2,
     "metadata": {},
     "output_type": "execute_result"
    }
   ],
   "source": [
    "stock_list = pd.read_csv(\"../data_pulled/stock_date_delta_priceNone.csv\")\n",
    "print(\"stock_list.shape: \", stock_list.shape)\n",
    "print(\"\")\n",
    "stock_list.head()"
   ]
  },
  {
   "cell_type": "markdown",
   "metadata": {},
   "source": [
    "### 成长股\n",
    "三年内年净利润增长率最少大于10%，平均大于25% <br>\n",
    "毛利率三年平均>40% <br>\n",
    "净利率三年平均>20% <br>"
   ]
  },
  {
   "cell_type": "markdown",
   "metadata": {},
   "source": [
    "*获取数据*"
   ]
  },
  {
   "cell_type": "code",
   "execution_count": 3,
   "metadata": {},
   "outputs": [],
   "source": [
    "def get_data(ts_code, time_list):\n",
    "    for i in range(len(time_list)):\n",
    "\n",
    "        ret = pro.income(ts_code=ts_code, period='20'+str(time_list[i])+'1231', fields='ts_code,end_date,n_income,\\\n",
    "                         revenue,oper_cost')\n",
    "        rets = pd.concat([rets, ret], ignore_index=True) if i != 0 else ret\n",
    "\n",
    "    rets = rets.drop_duplicates()[-4:].reset_index(drop=True)\n",
    "    rets['mao_li'] = (rets['revenue']-rets['oper_cost'])/rets['revenue']\n",
    "    rets['jing_li'] = rets['n_income']/rets['revenue']\n",
    "    \n",
    "    return rets.drop(['oper_cost', 'revenue'], axis=1)"
   ]
  },
  {
   "cell_type": "markdown",
   "metadata": {},
   "source": [
    "*进行筛选*"
   ]
  },
  {
   "cell_type": "code",
   "execution_count": 4,
   "metadata": {},
   "outputs": [
    {
     "name": "stdout",
     "output_type": "stream",
     "text": [
      "task accomplish: 0.03 %, cost time : 2.37 minutes\n",
      "task accomplish: 0.06 %, cost time : 5.22 minutes\n",
      "task accomplish: 0.1 %, cost time : 7.6 minutes\n",
      "task accomplish: 0.13 %, cost time : 10.47 minutes\n",
      "task accomplish: 0.16 %, cost time : 12.87 minutes\n",
      "task accomplish: 0.19 %, cost time : 15.75 minutes\n",
      "task accomplish: 0.23 %, cost time : 18.1 minutes\n",
      "task accomplish: 0.26 %, cost time : 20.92 minutes\n",
      "task accomplish: 0.29 %, cost time : 23.23 minutes\n",
      "task accomplish: 0.32 %, cost time : 26.03 minutes\n",
      "task accomplish: 0.36 %, cost time : 28.43 minutes\n",
      "task accomplish: 0.39 %, cost time : 31.27 minutes\n",
      "task accomplish: 0.42 %, cost time : 33.55 minutes\n",
      "task accomplish: 0.45 %, cost time : 36.33 minutes\n",
      "task accomplish: 0.49 %, cost time : 38.65 minutes\n",
      "task accomplish: 0.52 %, cost time : 41.52 minutes\n",
      "task accomplish: 0.55 %, cost time : 43.83 minutes\n",
      "task accomplish: 0.58 %, cost time : 46.57 minutes\n",
      "task accomplish: 0.61 %, cost time : 48.93 minutes\n",
      "task accomplish: 0.65 %, cost time : 51.78 minutes\n",
      "task accomplish: 0.68 %, cost time : 54.18 minutes\n",
      "task accomplish: 0.71 %, cost time : 57.02 minutes\n",
      "task accomplish: 0.74 %, cost time : 59.32 minutes\n",
      "task accomplish: 0.78 %, cost time : 62.15 minutes\n",
      "task accomplish: 0.81 %, cost time : 64.47 minutes\n",
      "task accomplish: 0.84 %, cost time : 67.32 minutes\n",
      "task accomplish: 0.87 %, cost time : 69.6 minutes\n",
      "task accomplish: 0.91 %, cost time : 72.37 minutes\n",
      "task accomplish: 0.94 %, cost time : 74.83 minutes\n",
      "task accomplish: 0.97 %, cost time : 77.38 minutes\n",
      "finish task !! total time : 79.9 minutes\n"
     ]
    }
   ],
   "source": [
    "candidate_list = []\n",
    "time_list = [15, 16, 17, 18, 19, 20]\n",
    "times = 0\n",
    "starttime = datetime.datetime.now()\n",
    "len_stock = len(stock_list)\n",
    "\n",
    "while True:\n",
    "    \n",
    "    # 发生中断后，防止遗漏\n",
    "    start_index = 0\n",
    "    \n",
    "    for cur_index in range(start_index, len_stock):\n",
    "        \n",
    "        start_index = cur_index\n",
    "        \n",
    "        try:\n",
    "            data = get_data(stock_list[\"ts_code\"][cur_index], time_list)\n",
    "        except:\n",
    "            time.sleep(5)\n",
    "\n",
    "        times += 1\n",
    "        pass_data = True\n",
    "        in_come_list = []\n",
    "\n",
    "        maoli_mean = data['mao_li'][1:].mean()\n",
    "        jingli_mean = data['jing_li'][1:].mean()\n",
    "\n",
    "        if maoli_mean >= 0.4 and jingli_mean >= 0.2:\n",
    "\n",
    "            for i in range(1, len(data)):\n",
    "                n_income_last = data.iloc[i-1][\"n_income\"]\n",
    "                n_income_cur = data.iloc[i][\"n_income\"]\n",
    "                income_rate = (n_income_cur - n_income_last) / n_income_last\n",
    "                in_come_list.append(income_rate)\n",
    "\n",
    "                if n_income_cur > 0 and n_income_cur > n_income_last and income_rate >= 0.10:\n",
    "                    continue\n",
    "                else:\n",
    "                    pass_data = False\n",
    "                    break\n",
    "        else:\n",
    "            pass_data = False\n",
    "        \n",
    "        if len(in_come_list) == 3 and pass_data is True and np.mean(in_come_list) >= 0.25:\n",
    "            candidate_list.append(stock_list[\"ts_code\"][cur_index])\n",
    "            \n",
    "        if cur_index != 0 and cur_index % 100 == 0:\n",
    "            endtime = datetime.datetime.now()\n",
    "            print(\"task accomplish: {} %, cost time : {} minutes\".format(round((cur_index+1)/len_stock, 2), \\\n",
    "                                            round((endtime - starttime).seconds / 60, 2)))\n",
    "            \n",
    "    if cur_index >= len_stock - 1:\n",
    "        endtime = datetime.datetime.now()\n",
    "        print(\"finish task !! total time : {} minutes\".format(round((endtime - starttime).seconds / 60, 2)))\n",
    "        break"
   ]
  },
  {
   "cell_type": "code",
   "execution_count": 5,
   "metadata": {},
   "outputs": [
    {
     "data": {
      "text/plain": [
       "71"
      ]
     },
     "execution_count": 5,
     "metadata": {},
     "output_type": "execute_result"
    }
   ],
   "source": [
    "len(candidate_list)"
   ]
  },
  {
   "cell_type": "code",
   "execution_count": 6,
   "metadata": {},
   "outputs": [
    {
     "data": {
      "text/plain": [
       "['000568.SZ',\n",
       " '000661.SZ',\n",
       " '000813.SZ',\n",
       " '000858.SZ',\n",
       " '002001.SZ',\n",
       " '002040.SZ',\n",
       " '002099.SZ',\n",
       " '002195.SZ',\n",
       " '002372.SZ',\n",
       " '002425.SZ',\n",
       " '002619.SZ',\n",
       " '002677.SZ',\n",
       " '002821.SZ',\n",
       " '002901.SZ',\n",
       " '002943.SZ',\n",
       " '300003.SZ',\n",
       " '300004.SZ',\n",
       " '300005.SZ',\n",
       " '300006.SZ',\n",
       " '300007.SZ',\n",
       " '300008.SZ',\n",
       " '300009.SZ',\n",
       " '300010.SZ',\n",
       " '300016.SZ',\n",
       " '300251.SZ',\n",
       " '300294.SZ',\n",
       " '300326.SZ',\n",
       " '300365.SZ',\n",
       " '300396.SZ',\n",
       " '300450.SZ',\n",
       " '300459.SZ',\n",
       " '300482.SZ',\n",
       " '300506.SZ',\n",
       " '300529.SZ',\n",
       " '300559.SZ',\n",
       " '300595.SZ',\n",
       " '300628.SZ',\n",
       " '300630.SZ',\n",
       " '300634.SZ',\n",
       " '300642.SZ',\n",
       " '300653.SZ',\n",
       " '300685.SZ',\n",
       " '300699.SZ',\n",
       " '300725.SZ',\n",
       " '300732.SZ',\n",
       " '300747.SZ',\n",
       " '300751.SZ',\n",
       " '300753.SZ',\n",
       " '300766.SZ',\n",
       " '600054.SH',\n",
       " '600167.SH',\n",
       " '600276.SH',\n",
       " '600368.SH',\n",
       " '600516.SH',\n",
       " '600603.SH',\n",
       " '600639.SH',\n",
       " '600771.SH',\n",
       " '603037.SH',\n",
       " '603338.SH',\n",
       " '603357.SH',\n",
       " '603387.SH',\n",
       " '603393.SH',\n",
       " '603429.SH',\n",
       " '603505.SH',\n",
       " '603568.SH',\n",
       " '603583.SH',\n",
       " '603589.SH',\n",
       " '603638.SH',\n",
       " '603658.SH',\n",
       " '603666.SH',\n",
       " '603707.SH']"
      ]
     },
     "execution_count": 6,
     "metadata": {},
     "output_type": "execute_result"
    }
   ],
   "source": [
    "candidate_list"
   ]
  },
  {
   "cell_type": "code",
   "execution_count": 7,
   "metadata": {},
   "outputs": [
    {
     "data": {
      "text/html": [
       "<div>\n",
       "<style scoped>\n",
       "    .dataframe tbody tr th:only-of-type {\n",
       "        vertical-align: middle;\n",
       "    }\n",
       "\n",
       "    .dataframe tbody tr th {\n",
       "        vertical-align: top;\n",
       "    }\n",
       "\n",
       "    .dataframe thead th {\n",
       "        text-align: right;\n",
       "    }\n",
       "</style>\n",
       "<table border=\"1\" class=\"dataframe\">\n",
       "  <thead>\n",
       "    <tr style=\"text-align: right;\">\n",
       "      <th></th>\n",
       "      <th>ts_code</th>\n",
       "      <th>name</th>\n",
       "    </tr>\n",
       "  </thead>\n",
       "  <tbody>\n",
       "    <tr>\n",
       "      <th>3092</th>\n",
       "      <td>603999.SH</td>\n",
       "      <td>读者传媒</td>\n",
       "    </tr>\n",
       "  </tbody>\n",
       "</table>\n",
       "</div>"
      ],
      "text/plain": [
       "        ts_code  name\n",
       "3092  603999.SH  读者传媒"
      ]
     },
     "execution_count": 7,
     "metadata": {},
     "output_type": "execute_result"
    }
   ],
   "source": [
    "stock_list[(stock_list[\"ts_code\"] == stock_list[\"ts_code\"][cur_index])]"
   ]
  },
  {
   "cell_type": "code",
   "execution_count": null,
   "metadata": {},
   "outputs": [],
   "source": []
  }
 ],
 "metadata": {
  "kernelspec": {
   "display_name": "Python 3",
   "language": "python",
   "name": "python3"
  },
  "language_info": {
   "codemirror_mode": {
    "name": "ipython",
    "version": 3
   },
   "file_extension": ".py",
   "mimetype": "text/x-python",
   "name": "python",
   "nbconvert_exporter": "python",
   "pygments_lexer": "ipython3",
   "version": "3.7.3"
  }
 },
 "nbformat": 4,
 "nbformat_minor": 2
}
